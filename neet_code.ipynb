{
 "cells": [
  {
   "cell_type": "markdown",
   "id": "aabf7885-89b1-4a4e-9725-242ff6e042de",
   "metadata": {},
   "source": [
    "### 217. Contains Duplicate\n",
    "Given an integer array nums, return true if any value appears at least twice in the array, and return false if every element is distinct."
   ]
  },
  {
   "cell_type": "code",
   "execution_count": 1,
   "id": "612c7f0a-d494-4f3d-aa0c-81b5f8f50d4a",
   "metadata": {},
   "outputs": [],
   "source": [
    "class Solution(object):\n",
    "    def containsDuplicate(self, nums):\n",
    "        \"\"\"\n",
    "        :type nums: List[int]\n",
    "        :rtype: bool\n",
    "        \"\"\"\n",
    "        #Optimized method with hashsets\n",
    "        # if len(nums) > len(set(nums)):\n",
    "        #     return True\n",
    "        # else:\n",
    "        #     return False\n",
    "\n",
    "        #Brute Force Method\n",
    "        nums.sort()\n",
    "        for i in range(0,len(nums)-1):\n",
    "            if nums[i] == nums[i+1]:\n",
    "                return True\n",
    "        return False\n"
   ]
  },
  {
   "cell_type": "code",
   "execution_count": null,
   "id": "4895a0f0-86c2-44e6-932f-d55b0217785a",
   "metadata": {},
   "outputs": [],
   "source": []
  }
 ],
 "metadata": {
  "kernelspec": {
   "display_name": "Python 3 (ipykernel)",
   "language": "python",
   "name": "python3"
  },
  "language_info": {
   "codemirror_mode": {
    "name": "ipython",
    "version": 3
   },
   "file_extension": ".py",
   "mimetype": "text/x-python",
   "name": "python",
   "nbconvert_exporter": "python",
   "pygments_lexer": "ipython3",
   "version": "3.10.8"
  }
 },
 "nbformat": 4,
 "nbformat_minor": 5
}
